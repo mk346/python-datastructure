{
 "cells": [
  {
   "cell_type": "code",
   "execution_count": 3,
   "metadata": {},
   "outputs": [
    {
     "name": "stdout",
     "output_type": "stream",
     "text": [
      "{'model': 'Mercedez', 'color': 'Blue', 'capacity': 5, 'fuel': 'Gasoline'}\n"
     ]
    }
   ],
   "source": [
    "def create_car(model, color, capacity, fuel):\n",
    "    car_dict = {\n",
    "        'model': model,\n",
    "        'color': color,\n",
    "        'capacity': capacity,\n",
    "        'fuel': fuel\n",
    "    }\n",
    "    return car_dict\n",
    "\n",
    "# Example usage:\n",
    "my_car = create_car('Mercedez','Blue',5, 'Gasoline')\n",
    "print(my_car)\n"
   ]
  },
  {
   "cell_type": "code",
   "execution_count": 13,
   "metadata": {},
   "outputs": [
    {
     "name": "stdout",
     "output_type": "stream",
     "text": [
      "[0, 0, 0]\n",
      "[1, 1, 1]\n",
      "[0, 0, 0]\n"
     ]
    }
   ],
   "source": [
    "# Example usage:\n",
    "num_list = [[0, 0, 0],\n",
    "            [0, 0, 0],\n",
    "            [0, 0, 0]]\n",
    "\n",
    "def insert_value(my_list, row_index):\n",
    "    # Check if the provided row index is valid\n",
    "    if 0 <= row_index < len(my_list):\n",
    "        \n",
    "        my_list = [1] * len(my_list[row_index])\n",
    "    else:\n",
    "        print(\"Invalid row index.\")\n",
    "\n",
    "\n",
    "insert_value(num_list, row_index=1)\n",
    "\n",
    "# Print the modified nested list\n",
    "for row in num_list:\n",
    "    print(row)"
   ]
  },
  {
   "cell_type": "code",
   "execution_count": 33,
   "metadata": {},
   "outputs": [
    {
     "data": {
      "text/plain": [
       "[[1, 1, 1, 1, 1], [0, 0, 0, 0, 0]]"
      ]
     },
     "execution_count": 33,
     "metadata": {},
     "output_type": "execute_result"
    }
   ],
   "source": [
    "unplanted_field = [\n",
    "[0, 0, 0],\n",
    "[0, 0, 0],\n",
    "[0, 0, 0],\n",
    "[0, 0, 0]\n",
    "]\n",
    "def plant_row(field, row_to_plant):\n",
    "    # Insert your code here\n",
    "    if 0 <= row_to_plant < len(field):\n",
    "        field[row_to_plant] = [1] * len(field[row_to_plant])\n",
    "    else: \n",
    "        print(\"Invalid row index\")\n",
    "        \n",
    "    for row in field:\n",
    "        return field\n",
    "plant_row([[0, 0, 0, 0, 0], [0, 0, 0, 0, 0]], 0)"
   ]
  },
  {
   "cell_type": "code",
   "execution_count": 61,
   "metadata": {},
   "outputs": [
    {
     "data": {
      "text/plain": [
       "[{'model': 'Toyota Camry',\n",
       "  'color': 'Blue',\n",
       "  'horse_power': 180,\n",
       "  'fuel_capacity': 60},\n",
       " {'model': 'Honda Accord',\n",
       "  'color': 'Red',\n",
       "  'horse_power': 200,\n",
       "  'fuel_capacity': 65},\n",
       " {'model': 'Ford Mustang',\n",
       "  'color': 'Black',\n",
       "  'horse_power': 450,\n",
       "  'fuel_capacity': 70},\n",
       " {'model': 'Tesla Model 3',\n",
       "  'color': 'Silver',\n",
       "  'horse_power': 350,\n",
       "  'fuel_capacity': 0}]"
      ]
     },
     "execution_count": 61,
     "metadata": {},
     "output_type": "execute_result"
    }
   ],
   "source": [
    "def process_and_add_vehicle(existing_vehicles, new_vehicle):\n",
    "    # Check if the new_vehicle is a list or tuple with the expected length\n",
    "    if len(new_vehicle) == 4:\n",
    "        # Convert the list or tuple to a dictionary with the expected keys\n",
    "        new_vehicle_dict = {\n",
    "            'model': new_vehicle[0],\n",
    "            'color': new_vehicle[1],\n",
    "            'horse_power': new_vehicle[2],\n",
    "            'fuel_capacity': new_vehicle[3]\n",
    "        }\n",
    "        # Add the new vehicle to the existing list\n",
    "        existing_vehicles.append(new_vehicle_dict)\n",
    "\n",
    "        #return existing_vehicles\n",
    "    else:\n",
    "        print(\"Invalid new_vehicle format. It should be a list or tuple with 4 elements.\")\n",
    "        #return existing_vehicles\n",
    "    for vehicle in existing_vehicles:\n",
    "        return existing_vehicles \n",
    "\n",
    "# Example usage:\n",
    "existing_vehicles = [\n",
    "    {'model': 'Toyota Camry', 'color': 'Blue', 'horse_power': 180, 'fuel_capacity': 60},\n",
    "    {'model': 'Honda Accord', 'color': 'Red', 'horse_power': 200, 'fuel_capacity': 65},\n",
    "    {'model': 'Ford Mustang', 'color': 'Black', 'horse_power': 450, 'fuel_capacity': 70}\n",
    "]\n",
    "\n",
    "new_vehicle_tuple = ('Tesla Model 3', 'Silver', 350, 0)\n",
    "\n",
    "# Example usage with tuple\n",
    "process_and_add_vehicle(existing_vehicles, new_vehicle_tuple)\n",
    "\n",
    "# Print the modified vehicles list\n",
    "#print(\"\\nModified Vehicles List (Tuple):\")\n",
    "# for vehicle in modified_vehicles_tuple:\n",
    "#     print_1 = (f\"Model: {vehicle['model']}, Color: {vehicle['color']}, Horsepower: {vehicle['horse_power']}, Fuel Capacity: {vehicle['fuel_capacity']}\")\n"
   ]
  }
 ],
 "metadata": {
  "kernelspec": {
   "display_name": "Python 3",
   "language": "python",
   "name": "python3"
  },
  "language_info": {
   "codemirror_mode": {
    "name": "ipython",
    "version": 3
   },
   "file_extension": ".py",
   "mimetype": "text/x-python",
   "name": "python",
   "nbconvert_exporter": "python",
   "pygments_lexer": "ipython3",
   "version": "3.12.1"
  }
 },
 "nbformat": 4,
 "nbformat_minor": 2
}
